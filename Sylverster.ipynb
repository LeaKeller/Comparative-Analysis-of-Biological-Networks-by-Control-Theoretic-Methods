{
 "cells": [
  {
   "cell_type": "markdown",
   "id": "d2ade12d",
   "metadata": {},
   "source": [
    "# Brusselator"
   ]
  },
  {
   "cell_type": "markdown",
   "id": "0d5b5c60",
   "metadata": {},
   "source": [
    "Sylvester equation can be used as a tool to solve matrixequations that arise in the spacial discretization of PDEs. PDEs model complex spatial-temporal phenomena like the patterns in Belouzov-Zhabotinky reactions, and their solutions can be found using matix-oriented finite element methods which lead to Sylvester-type equations.\n",
    "1. If the reaction written as a stoichiometric matrix that lead to a dynamical system can be rewritten in the form $F'(X,Y)=A(X,Y)+C$, the Sylvester-like euqation can be derived from there.\n",
    "2. A fist discretization using the reaction diffusion system form can also be studied for further different results.\n",
    "3. Further work could entail time study of the oscillations process (for the Oregonator)."
   ]
  },
  {
   "cell_type": "markdown",
   "id": "a15c23fe",
   "metadata": {},
   "source": [
    "### Imports"
   ]
  },
  {
   "cell_type": "code",
   "execution_count": null,
   "id": "eb4c8535",
   "metadata": {},
   "outputs": [],
   "source": [
    "import numpy as np\n",
    "import sympy as sp\n",
    "import scipy as sc\n",
    "from scipy import optimize\n",
    "#from scipy.integrate import Radau #Ref. CAMP Polytechnique Paris\n",
    "import pytensor\n",
    "import pytensor.tensor as pt\n",
    "#import pymepack as pme\n",
    "#from pymepack import gesylv"
   ]
  },
  {
   "cell_type": "markdown",
   "id": "8f41edbd",
   "metadata": {},
   "source": [
    "### Using Symbolic values"
   ]
  },
  {
   "cell_type": "markdown",
   "id": "152ec264",
   "metadata": {},
   "source": [
    "The system to be defined is on the form $F'(X,Y)=A(X,Y)+C$ with a quadratic variable $X^2$\n",
    "\n",
    "Define the lifting state as $V=(X,Y,X^2,XY)$\n",
    "\n",
    "There are 6 possible decompositions such that $F'(V)=MV+C$ (under the conditions that are not fully verified yet)\n",
    "\n",
    "First possible decomposition"
   ]
  },
  {
   "cell_type": "code",
   "execution_count": 23,
   "id": "1fde9997",
   "metadata": {},
   "outputs": [],
   "source": [
    "# Variable concentrations\n",
    "X = sp.Symbol('X')\n",
    "Y = sp.Symbol('Y')\n",
    "\n",
    "# Values for the kinetics and the constant concentrations\n",
    "k1 = 1.28\n",
    "k2 = 2.4*10**6\n",
    "k3 = 33.6\n",
    "k4 = 2400.0\n",
    "A = 0.06\n",
    "B = 0.02\n",
    "D = 1.0\n",
    "E = 1.0\n",
    "\n",
    "M = np.array([[-k2*B-k4, k3*X**2, 0, 0], [k2*B, k3*X**2, 0, 0]])\n",
    "C = np.array([[k1*A], [0]])"
   ]
  },
  {
   "cell_type": "markdown",
   "id": "832d88f2",
   "metadata": {},
   "source": [
    "**Define the Sylvester equation**\n",
    "\n",
    "Suppose two systems such that $F'(V1)=M1*V1+C1$ and $F'(V2)=M2*V2+C2$, there are again 6 possible decompositions\n",
    "\n",
    "Define the linear mapping that should be obtained as $V2=V*V1$\n",
    "\n",
    "Then $F'(V2)=VF'(V1)=V(M1*V1+C1)=V*M1*V1+V*C1$ and $F'(V2)=M2*V2+C2=M2*V*V1+C2$\n",
    "\n",
    "Which gives $V*M1*V1+V*C1=M2*V*V1+C2 \\Rightarrow V*M1-M2*V=C2-V*C1$ (Sylvester like equation)\n",
    "\n",
    "The verification of the conditions for the standard and the general Sylverster equations solution are ommited\n",
    "\n",
    "Rewrite the Sylvester like equation : $V*(M1+C1)-M2*V=C2 \\Leftrightarrow -M2*V+V*(M1+C1)=C2 \\Leftrightarrow NV+VP=C$"
   ]
  },
  {
   "cell_type": "code",
   "execution_count": 39,
   "id": "b7868fbb",
   "metadata": {},
   "outputs": [],
   "source": [
    "M1 = np.array([-k2*B-k4, k3*X**2, 0, 0])\n",
    "C1 = k1*A\n",
    "M2 = np.array([k2*B, -k3*X**2, 0, 0])\n",
    "C2 = 0\n",
    "N = -M2\n",
    "P = M1+C1\n",
    "R = N*np.array([X, Y, X**2, X*Y])+np.array([X, Y, X**2, X*Y])*P-C\n",
    "#V, *_ = pme.gesylv(N, P, C) # solve the standard Sylvester equation\n",
    "#res = pme.res_gesylv(N, P, V, C) # compute the residual"
   ]
  },
  {
   "cell_type": "markdown",
   "id": "50fdf54f",
   "metadata": {},
   "source": [
    "### Using an optimization solver"
   ]
  },
  {
   "cell_type": "code",
   "execution_count": 40,
   "id": "1ccd5a42",
   "metadata": {},
   "outputs": [],
   "source": [
    "# The method is using symbolic values, which does not allow to use optimize root directly form SciPy (optimize.root) to find the residual of the Sylvester equation, whence the use of pytensor.\n",
    "X, Y = pt.tensor('variables', shape=(2,))\n",
    "A, B, D, E = pt.scalars('A B D E'.split())\n",
    "k1, k2, k3, k4 = pt.scalars('k1 k2 k3 k4'.split())\n",
    "eq1 = k1*A-k2*B*X+k3*X**2*Y-k4*X\n",
    "eq2 = k2*B*X-k3*X**2*Y\n",
    "fun = np.array([[k1*A-k2*B*X+k3*X**2*Y-k4*X], [k2*B*X-k3*X**2*Y]])\n",
    "#sol, success = pt.optimize.root(fun, np.array([[X], [Y]])) #Find the roots of a multivariate function using MINPACK’s hybrd and hybrj routines (modified Powell method)"
   ]
  },
  {
   "cell_type": "markdown",
   "id": "a0256d47",
   "metadata": {},
   "source": [
    "### Using a discretization method"
   ]
  },
  {
   "cell_type": "markdown",
   "id": "2892f582",
   "metadata": {},
   "source": [
    "Note roughly $f(X,Y)=\\begin{pmatrix} k_1A-(k_2B+k_4+k_3)X+k_3XY \\\\ (k_2B-k_3)X-k_3XY \\end{pmatrix}$\n",
    "\n",
    "**Forward difference approximation**\n",
    "\n",
    "$\\lim_{\\Delta t\\to 0}\\dfrac{f(X+\\Delta t,Y)-f(X,Y)}{\\Delta t}=\\begin{pmatrix} -(k_2B+k_4+k_3) + k_3Y \\\\ (k_2B-k3) - k_3Y \\end{pmatrix}$\n",
    "\n",
    "$\\lim_{\\Delta t\\to 0}\\dfrac{f(X, Y+\\Delta t)-f(X,Y)}{\\Delta t}=\\begin{pmatrix} k_3X \\\\ -k_3X \\end{pmatrix}$ \n",
    "\n",
    "**Reaction-Diffusion system form**\n",
    "\n",
    "Model the concentration $X(x,t)$ and $Y(x,t)$ with diffusion coefficients $D_X$ and $D_Y$ over a 1D spatial domain $x\\in [0,L]$ governed by\n",
    "$$\\dfrac{\\partial X}{\\partial t}=D_X\\dfrac{\\partial ^2X}{\\partial x^2}+k_1A-(k_2B+k_4+k_3)X+k_3XY$$\n",
    "$$\\dfrac{\\partial Y}{\\partial t}=D_Y\\dfrac{\\partial ^2Y}{\\partial x^2}+(k_2B-k_3)X-k_3XY$$\n",
    "\n",
    "**Boundary conditions**\n",
    "1. Neumann (no-flux)\n",
    "$$\\dfrac{\\partial X}{\\partial x}|_{x=0}=0, \\ \\dfrac{\\partial X}{\\partial x}|_{x=L}=0$$\n",
    "$$\\dfrac{\\partial Y}{\\partial x}|_{x=0}=0, \\ \\dfrac{\\partial Y}{\\partial x}|_{x=L}=0$$\n",
    "2. Dirichlet (fixed concentration)\n",
    "$$X(0,t)=X_0, \\ X(L,t)=X_L$$\n",
    "$$Y(0,t)=Y_0, Y(L,t)=Y_L$$"
   ]
  },
  {
   "cell_type": "code",
   "execution_count": null,
   "id": "a7658b0b",
   "metadata": {},
   "outputs": [],
   "source": [
    "# Trials for the different possible combination of boundary conditions"
   ]
  },
  {
   "cell_type": "markdown",
   "id": "e79012d9",
   "metadata": {},
   "source": [
    "# Oregonator"
   ]
  }
 ],
 "metadata": {
  "kernelspec": {
   "display_name": "BZ-env (3.13.7)",
   "language": "python",
   "name": "python3"
  },
  "language_info": {
   "codemirror_mode": {
    "name": "ipython",
    "version": 3
   },
   "file_extension": ".py",
   "mimetype": "text/x-python",
   "name": "python",
   "nbconvert_exporter": "python",
   "pygments_lexer": "ipython3",
   "version": "3.13.7"
  }
 },
 "nbformat": 4,
 "nbformat_minor": 5
}
